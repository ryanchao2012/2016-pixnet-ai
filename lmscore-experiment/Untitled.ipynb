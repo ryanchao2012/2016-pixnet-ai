{
 "cells": [
  {
   "cell_type": "code",
   "execution_count": 63,
   "metadata": {
    "collapsed": false
   },
   "outputs": [],
   "source": [
    "from parallel_toktag import parallel_toktag\n",
    "from urllib.parse import quote\n",
    "from urllib import request\n",
    "import codecs, jieba\n",
    "import re, html, time\n",
    "from os import listdir\n",
    "from os.path import isfile, join\n",
    "import random\n",
    "from lmscore import *\n",
    "toktagger = ZhTokTagger(\n",
    "        tm=PyTablesTM('/pix/smttoktag/toktag.phrasetable.h5'),\n",
    "        lm=KenLM('/pix/smttoktag/tag.blm'))\n",
    "OPTION_LIST = ['a', 'b', 'c', 'd', 'e']\n",
    "SAMPLE_PATH = '../pixbot/question_samples/'\n",
    "\n",
    "SAMPLE_FILES = [f for f in listdir(path) if isfile(join(SAMPLE_PATH, f))]\n",
    "def simple_preprocess(sample):\n",
    "    no, content, a, b, c, d, e = re.findall(r'\\[(\\d+)\\](.*)### a:(.*), b:(.*), c:(.*), d:(.*), e:(.*)\\[END\\]', sample)[0]\n",
    "    options = [a.strip(), b.strip(), c.strip(), d.strip(), e.strip()]\n",
    "    content = re.sub('(\")(.?)', r'\\2', content.strip())\n",
    "    content = content.strip().replace('︽⊙＿⊙︽', '龐傍燮謝')\n",
    "    wlist = list(jieba.cut(content))\n",
    "    qidx = []\n",
    "    i = 0\n",
    "    for w in wlist:\n",
    "        if w == '龐傍燮謝':\n",
    "            wlist[i] = '*'\n",
    "            qidx.append(i)\n",
    "        i += 1\n",
    "    return (no, wlist, qidx, options)\n",
    "\n",
    "def get_sample(file_name, no_sample):\n",
    "    with codecs.open(file_name, 'r', 'utf-8') as f:\n",
    "        for line in f:\n",
    "            for (no, content, a, b, c, d, e) in re.findall(r'\\[(\\d+)\\](.*)### a:(.*), b:(.*), c:(.*), d:(.*), e:(.*)\\[END\\]', line):\n",
    "                if int(no) == int(no_sample):\n",
    "                    return line\n",
    "\n",
    "def sample_lmscore(sample):\n",
    "    no, content, a, b, c, d, e = re.findall(r'\\[(\\d+)\\](.*)### a:(.*), b:(.*), c:(.*), d:(.*), e:(.*)\\[END\\]', sample)[0]\n",
    "    content = re.sub('(\")(.?)', r'\\2', content.strip())\n",
    "    sents = gen_answer_sentences(content, (a,b,c,d,e))\n",
    "    seginfos = list(map(toktagger, sents))\n",
    "    scores = list(map(lambda seginfo: zhseg_lm(seginfo.zh_seg), seginfos))\n",
    "    return (no, OPTION_LIST[scores.index(max(scores))])"
   ]
  },
  {
   "cell_type": "code",
   "execution_count": 68,
   "metadata": {
    "collapsed": false
   },
   "outputs": [
    {
     "name": "stdout",
     "output_type": "stream",
     "text": [
      "1.0\n",
      "1.0\n",
      "1.0\n",
      "1.0\n",
      "1.0\n",
      "1.0\n",
      "1.0\n",
      "1.0\n",
      "0.972972972972973\n",
      "0.9761904761904762\n",
      "0.9574468085106383\n",
      "0.9615384615384616\n",
      "0.9473684210526315\n",
      "0.9516129032258065\n",
      "0.9552238805970149\n",
      "0.9583333333333334\n",
      "0.961038961038961\n",
      "0.9634146341463414\n",
      "0.9540229885057471\n",
      "0.9456521739130435\n",
      "0.9456521739130435\n"
     ]
    }
   ],
   "source": [
    "correct = 0\n",
    "total = 0\n",
    "for dummy in range(20):\n",
    "    file = random.choice(SAMPLE_FILES)\n",
    "    ans = []\n",
    "    pred = ['-1', '-1', '-1', '-1', '-1','-1', '-1', '-1', '-1', '-1']\n",
    "    with codecs.open(SAMPLE_PATH + file, 'r', 'utf-8') as f:\n",
    "        for line in f:\n",
    "            if line.find('[END]') < 0:\n",
    "                ans = line.strip().split(' ')\n",
    "            else:\n",
    "                (no, a) = sample_lmscore(line.strip())\n",
    "                pred[int(no)-1] = a\n",
    "        for j in range(len(ans)):\n",
    "            if pred[j] == ans[j]:\n",
    "                correct += 1\n",
    "            total += 1\n",
    "        print(float(correct)/float(total))\n",
    "print(float(correct)/float(total))\n",
    "                "
   ]
  },
  {
   "cell_type": "code",
   "execution_count": 69,
   "metadata": {
    "collapsed": false
   },
   "outputs": [
    {
     "data": {
      "text/plain": [
       "92"
      ]
     },
     "execution_count": 69,
     "metadata": {},
     "output_type": "execute_result"
    }
   ],
   "source": [
    "total"
   ]
  },
  {
   "cell_type": "code",
   "execution_count": 71,
   "metadata": {
    "collapsed": false
   },
   "outputs": [
    {
     "name": "stdout",
     "output_type": "stream",
     "text": [
      "asd:  92\n"
     ]
    }
   ],
   "source": [
    "print('asd: ',total)"
   ]
  },
  {
   "cell_type": "code",
   "execution_count": null,
   "metadata": {
    "collapsed": false
   },
   "outputs": [],
   "source": []
  },
  {
   "cell_type": "code",
   "execution_count": 49,
   "metadata": {
    "collapsed": false
   },
   "outputs": [
    {
     "data": {
      "text/plain": [
       "0"
      ]
     },
     "execution_count": 49,
     "metadata": {},
     "output_type": "execute_result"
    }
   ],
   "source": []
  }
 ],
 "metadata": {
  "kernelspec": {
   "display_name": "Python 3",
   "language": "python",
   "name": "python3"
  },
  "language_info": {
   "codemirror_mode": {
    "name": "ipython",
    "version": 3
   },
   "file_extension": ".py",
   "mimetype": "text/x-python",
   "name": "python",
   "nbconvert_exporter": "python",
   "pygments_lexer": "ipython3",
   "version": "3.5.1"
  }
 },
 "nbformat": 4,
 "nbformat_minor": 0
}
